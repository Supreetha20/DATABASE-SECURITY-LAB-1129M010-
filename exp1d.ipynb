{
  "nbformat": 4,
  "nbformat_minor": 0,
  "metadata": {
    "colab": {
      "provenance": [],
      "authorship_tag": "ABX9TyN5+o2yW6Eb9MFTRcLsBfNx",
      "include_colab_link": true
    },
    "kernelspec": {
      "name": "python3",
      "display_name": "Python 3"
    },
    "language_info": {
      "name": "python"
    }
  },
  "cells": [
    {
      "cell_type": "markdown",
      "metadata": {
        "id": "view-in-github",
        "colab_type": "text"
      },
      "source": [
        "<a href=\"https://colab.research.google.com/github/Supreetha20/DATABASE-SECURITY-LAB-1129M010-/blob/main/exp1d.ipynb\" target=\"_parent\"><img src=\"https://colab.research.google.com/assets/colab-badge.svg\" alt=\"Open In Colab\"/></a>"
      ]
    },
    {
      "cell_type": "code",
      "execution_count": null,
      "metadata": {
        "id": "ZUTi7hI1yRRb"
      },
      "outputs": [],
      "source": [
        "import string\n",
        "\n",
        "def encipher():\n",
        "    input_text = input(\"\\n\\nEnter Plain Text: \")\n",
        "    key = input(\"\\nEnter Key Value: \")\n",
        "    print(\"\\nResultant Cipher Text: \", end=\"\")\n",
        "\n",
        "    j = 0\n",
        "    for i in range(len(input_text)):\n",
        "        if j >= len(key):\n",
        "            j = 0\n",
        "        if input_text[i].isalpha():\n",
        "            cipher_char = chr(65 + ((ord(input_text[i].upper()) - 65 + ord(key[j].upper()) - 65) % 26))\n",
        "            print(cipher_char, end=\"\")\n",
        "            j += 1\n",
        "        else:\n",
        "            print(input_text[i], end=\"\")  # Keep non-alphabetic characters unchanged\n",
        "    print()\n",
        "\n",
        "\n",
        "def decipher():\n",
        "    input_text = input(\"\\n\\nEnter Cipher Text: \")\n",
        "    key = input(\"\\nEnter Key Value: \")\n",
        "    print(\"\\nResultant Plain Text: \", end=\"\")\n",
        "\n",
        "    j = 0\n",
        "    for i in range(len(input_text)):\n",
        "        if j >= len(key):\n",
        "            j = 0\n",
        "        if input_text[i].isalpha():\n",
        "            value = (ord(input_text[i].upper()) - ord(key[j].upper())) % 26\n",
        "            plain_char = chr(65 + value)\n",
        "            print(plain_char, end=\"\")\n",
        "            j += 1\n",
        "        else:\n",
        "            print(input_text[i], end=\"\")  # Keep non-alphabetic characters unchanged\n",
        "    print()\n",
        "\n",
        "\n",
        "def main():\n",
        "    while True:\n",
        "        print(\"\\n1. Encrypt Text\")\n",
        "        print(\"2. Decrypt Text\")\n",
        "        print(\"3. Exit\")\n",
        "        choice = input(\"\\nEnter Your Choice: \")\n",
        "\n",
        "        if choice == \"3\":\n",
        "            break\n",
        "        elif choice == \"1\":\n",
        "            encipher()\n",
        "        elif choice == \"2\":\n",
        "            decipher()\n",
        "        else:\n",
        "            print(\"Please Enter a Valid Option.\")\n",
        "\n",
        "\n",
        "if __name__ == \"__main__\":\n",
        "    main()\n"
      ]
    }
  ]
}