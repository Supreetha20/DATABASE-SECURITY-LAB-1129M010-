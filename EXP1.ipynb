{
  "nbformat": 4,
  "nbformat_minor": 0,
  "metadata": {
    "colab": {
      "provenance": [],
      "authorship_tag": "ABX9TyOT+cT7C5Y/+fMYm7aGWsS6",
      "include_colab_link": true
    },
    "kernelspec": {
      "name": "python3",
      "display_name": "Python 3"
    },
    "language_info": {
      "name": "python"
    }
  },
  "cells": [
    {
      "cell_type": "markdown",
      "metadata": {
        "id": "view-in-github",
        "colab_type": "text"
      },
      "source": [
        "<a href=\"https://colab.research.google.com/github/Supreetha20/DATABASE-SECURITY-LAB-1129M010-/blob/main/EXP1.ipynb\" target=\"_parent\"><img src=\"https://colab.research.google.com/assets/colab-badge.svg\" alt=\"Open In Colab\"/></a>"
      ]
    },
    {
      "cell_type": "code",
      "execution_count": 1,
      "metadata": {
        "colab": {
          "base_uri": "https://localhost:8080/"
        },
        "id": "RIyoOgdTshJ-",
        "outputId": "ec88c22c-473c-4d56-f522-4e689d8e9166"
      },
      "outputs": [
        {
          "output_type": "stream",
          "name": "stdout",
          "text": [
            "Enter the plain text: DATABASE SECURITY LAB\n",
            "Enter the key value: 20\n",
            "\n",
            "\tPLAIN TEXT: DATABASE SECURITY LAB\n",
            "\n",
            "\tENCRYPTED TEXT: X U N U V U M Y   M Y W O L C N S   F U V \n",
            "\n",
            "\tAFTER DECRYPTION: D A T A B A S E   S E C U R I T Y   L A B \n"
          ]
        }
      ],
      "source": [
        "def caesar_cipher():\n",
        "    plain = input(\"Enter the plain text: \")\n",
        "    key = int(input(\"Enter the key value: \"))\n",
        "    print(\"\\n\\tPLAIN TEXT:\", plain)\n",
        "    print(\"\\n\\tENCRYPTED TEXT:\", end=' ')\n",
        "    cipher = ''\n",
        "    for char in plain:\n",
        "        if char.isupper():\n",
        "            cipher_char = chr((ord(char) + key - 65) % 26 + 65)\n",
        "        elif char.islower():\n",
        "            cipher_char = chr((ord(char) + key - 97) % 26 + 97)\n",
        "        else:\n",
        "            cipher_char = char  # Non-alphabetic characters remain unchanged\n",
        "        cipher += cipher_char\n",
        "        print(cipher_char, end=' ')\n",
        "    print(\"\\n\\n\\tAFTER DECRYPTION:\", end=' ')\n",
        "    decrypted = ''\n",
        "    for char in cipher:\n",
        "        if char.isupper():\n",
        "            plain_char = chr((ord(char) - key - 65) % 26 + 65)\n",
        "        elif char.islower():\n",
        "            plain_char = chr((ord(char) - key - 97) % 26 + 97)\n",
        "        else:\n",
        "            plain_char = char  # Non-alphabetic characters remain unchanged\n",
        "        decrypted += plain_char\n",
        "        print(plain_char, end=' ')\n",
        "    print()\n",
        "\n",
        "if __name__ == \"__main__\":\n",
        "    caesar_cipher()"
      ]
    }
  ]
}