{
  "nbformat": 4,
  "nbformat_minor": 0,
  "metadata": {
    "colab": {
      "provenance": [],
      "authorship_tag": "ABX9TyNNzjYyuJJnALgOT8THVwFV",
      "include_colab_link": true
    },
    "kernelspec": {
      "name": "python3",
      "display_name": "Python 3"
    },
    "language_info": {
      "name": "python"
    }
  },
  "cells": [
    {
      "cell_type": "markdown",
      "metadata": {
        "id": "view-in-github",
        "colab_type": "text"
      },
      "source": [
        "<a href=\"https://colab.research.google.com/github/Supreetha20/DATABASE-SECURITY-LAB-1129M010-/blob/main/exp1c.ipynb\" target=\"_parent\"><img src=\"https://colab.research.google.com/assets/colab-badge.svg\" alt=\"Open In Colab\"/></a>"
      ]
    },
    {
      "cell_type": "code",
      "execution_count": 1,
      "metadata": {
        "colab": {
          "base_uri": "https://localhost:8080/"
        },
        "id": "NYLHFq1Oxr-d",
        "outputId": "efe0b4ff-1bec-44eb-a6ff-1b49c693250d"
      },
      "outputs": [
        {
          "output_type": "stream",
          "name": "stdout",
          "text": [
            "Enter plain text (3 letters only): dbs\n",
            "\n",
            "Numeric equivalent of plaintext:\n",
            "3 1 18 \n",
            "\n",
            "Encrypted Cipher Text: IBJ\n",
            "Decrypted Plain Text : DBS\n"
          ]
        }
      ],
      "source": [
        "import numpy as np\n",
        "\n",
        "def main():\n",
        "    # Encryption and decryption key matrices\n",
        "    a = np.array([[6, 24, 1],\n",
        "                  [13, 16, 10],\n",
        "                  [20, 17, 15]], dtype=np.uint32)\n",
        "\n",
        "    b = np.array([[8, 5, 10],\n",
        "                  [21, 8, 21],\n",
        "                  [21, 12, 8]], dtype=np.uint32)\n",
        "\n",
        "    # Arrays for numeric values\n",
        "    c = [0] * 20\n",
        "    d = [0] * 20\n",
        "\n",
        "    msg = input(\"Enter plain text (3 letters only): \").upper()\n",
        "\n",
        "    # Validate input length\n",
        "    if len(msg) != 3:\n",
        "        print(\"Error: Please enter exactly 3 letters for this example.\")\n",
        "        return\n",
        "\n",
        "    # Convert plaintext to numbers (A=0, B=1, ...)\n",
        "    print(\"\\nNumeric equivalent of plaintext:\")\n",
        "    for i in range(3):\n",
        "        c[i] = ord(msg[i]) - 65\n",
        "        print(c[i], end=\" \")\n",
        "\n",
        "    # Encrypt: d = a * c mod 26\n",
        "    for i in range(3):\n",
        "        t = 0\n",
        "        for j in range(3):\n",
        "            t += a[i][j] * c[j]\n",
        "        d[i] = t % 26\n",
        "\n",
        "    print(\"\\n\\nEncrypted Cipher Text:\", end=\" \")\n",
        "    for i in range(3):\n",
        "        print(chr(d[i] + 65), end=\"\")\n",
        "\n",
        "    # Decrypt: c = b * d mod 26\n",
        "    for i in range(3):\n",
        "        t = 0\n",
        "        for j in range(3):\n",
        "            t += b[i][j] * d[j]\n",
        "        c[i] = t % 26\n",
        "\n",
        "    print(\"\\nDecrypted Plain Text :\", end=\" \")\n",
        "    for i in range(3):\n",
        "        print(chr(c[i] + 65), end=\"\")\n",
        "\n",
        "    print()  # New line for cleanliness\n",
        "\n",
        "\n",
        "if __name__ == \"__main__\":\n",
        "    main()\n"
      ]
    }
  ]
}