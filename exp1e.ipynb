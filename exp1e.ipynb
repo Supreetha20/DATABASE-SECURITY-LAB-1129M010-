{
  "nbformat": 4,
  "nbformat_minor": 0,
  "metadata": {
    "colab": {
      "provenance": [],
      "authorship_tag": "ABX9TyMyKr6B6GalhlSZnC8B2mbF",
      "include_colab_link": true
    },
    "kernelspec": {
      "name": "python3",
      "display_name": "Python 3"
    },
    "language_info": {
      "name": "python"
    }
  },
  "cells": [
    {
      "cell_type": "markdown",
      "metadata": {
        "id": "view-in-github",
        "colab_type": "text"
      },
      "source": [
        "<a href=\"https://colab.research.google.com/github/Supreetha20/DATABASE-SECURITY-LAB-1129M010-/blob/main/exp1e.ipynb\" target=\"_parent\"><img src=\"https://colab.research.google.com/assets/colab-badge.svg\" alt=\"Open In Colab\"/></a>"
      ]
    },
    {
      "cell_type": "code",
      "execution_count": null,
      "metadata": {
        "id": "xYk8pMMs0JDX"
      },
      "outputs": [],
      "source": [
        "import sys\n",
        "\n",
        "def main():\n",
        "    print(\"\\n\\t\\tRAIL FENCE TECHNIQUE\")\n",
        "\n",
        "    a = input(\"\\n\\nEnter the input string: \")\n",
        "    l = len(a)\n",
        "\n",
        "    # Ciphering\n",
        "    c = ''.join([a[i] for i in range(l) if i % 2 == 0])\n",
        "    c += ''.join([a[i] for i in range(l) if i % 2 == 1])\n",
        "\n",
        "    print(\"\\nCipher text after applying rail fence:\")\n",
        "    print(c)\n",
        "\n",
        "    # Deciphering\n",
        "    k = l // 2 if l % 2 == 0 else (l // 2) + 1\n",
        "    d = [''] * l\n",
        "\n",
        "    for i in range(k):\n",
        "        d[i * 2] = c[i]\n",
        "    for i in range(k, l):\n",
        "        d[(i - k) * 2 + 1] = c[i]\n",
        "\n",
        "    d = ''.join(d)\n",
        "\n",
        "    print(\"\\nText after decryption:\")\n",
        "    print(d)\n",
        "\n",
        "    input(\"\\nPress Enter to continue...\")\n",
        "\n",
        "\n",
        "if __name__ == \"__main__\":\n",
        "    main()\n"
      ]
    }
  ]
}